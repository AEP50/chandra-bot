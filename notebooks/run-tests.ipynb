{
 "cells": [
  {
   "cell_type": "markdown",
   "metadata": {},
   "source": [
    "# run tests"
   ]
  },
  {
   "cell_type": "code",
   "execution_count": 1,
   "metadata": {},
   "outputs": [],
   "source": [
    "import os\n",
    "import sys\n",
    "import inspect\n",
    "import pandas as pd\n",
    "\n",
    "from chandra_bot import ChandraBot as cbot"
   ]
  },
  {
   "cell_type": "code",
   "execution_count": 2,
   "metadata": {},
   "outputs": [],
   "source": [
    "currentdir = os.path.dirname(os.path.abspath(inspect.getfile(inspect.currentframe())))\n",
    "parentdir = os.path.dirname(currentdir)\n",
    "moduledir = os.path.join(parentdir, \"chandra_bot\")\n",
    "sys.path.insert(0, moduledir) \n",
    "\n",
    "import chandra_bot_data_model_pb2 as dm"
   ]
  },
  {
   "cell_type": "code",
   "execution_count": 3,
   "metadata": {},
   "outputs": [],
   "source": [
    "example_dir = \"../examples\""
   ]
  },
  {
   "cell_type": "code",
   "execution_count": 4,
   "metadata": {},
   "outputs": [],
   "source": [
    "bot = cbot.create_bot(\n",
    "        paper_file=os.path.join(example_dir, \"small_fake_paper_series.csv\"),\n",
    "        review_file=os.path.join(example_dir, \"small_fake_review_series.csv\"),\n",
    "        human_file=os.path.join(example_dir, \"small_fake_human.csv\"),\n",
    ")"
   ]
  },
  {
   "cell_type": "code",
   "execution_count": 5,
   "metadata": {},
   "outputs": [
    {
     "name": "stdout",
     "output_type": "stream",
     "text": [
      "Assembling the paper book\n"
     ]
    }
   ],
   "source": [
    "print(\"Assembling the paper book\")\n",
    "bot.assemble_paper_book()"
   ]
  },
  {
   "cell_type": "code",
   "execution_count": null,
   "metadata": {},
   "outputs": [],
   "source": [
    "# do we have paper.authors here?\n",
    "# no. so the problem is the creation of the bot does not have the authors\n",
    "# so the problem is when the paper book gets assembled\n",
    "# walk through the logic of the `assemble_paper_book' method"
   ]
  },
  {
   "cell_type": "code",
   "execution_count": 10,
   "metadata": {},
   "outputs": [
    {
     "data": {
      "text/plain": [
       "'2015/1'"
      ]
     },
     "execution_count": 10,
     "metadata": {},
     "output_type": "execute_result"
    }
   ],
   "source": [
    "paper_id = bot.paper_df.index[0]\n",
    "paper_id"
   ]
  },
  {
   "cell_type": "code",
   "execution_count": 11,
   "metadata": {},
   "outputs": [],
   "source": [
    "paper = bot.paper_book.paper.add()"
   ]
  },
  {
   "cell_type": "code",
   "execution_count": 12,
   "metadata": {},
   "outputs": [],
   "source": [
    "paper.number = paper_id"
   ]
  },
  {
   "cell_type": "code",
   "execution_count": 13,
   "metadata": {},
   "outputs": [],
   "source": [
    "paper_row = bot.paper_df.loc[paper_id]"
   ]
  },
  {
   "cell_type": "code",
   "execution_count": 14,
   "metadata": {},
   "outputs": [],
   "source": [
    "bot._attribute_paper(paper, paper_row)"
   ]
  },
  {
   "cell_type": "code",
   "execution_count": 15,
   "metadata": {},
   "outputs": [
    {
     "data": {
      "text/plain": [
       "True"
      ]
     },
     "execution_count": 15,
     "metadata": {},
     "output_type": "execute_result"
    }
   ],
   "source": [
    "\"author_ids\" in bot.paper_df.columns"
   ]
  },
  {
   "cell_type": "code",
   "execution_count": 17,
   "metadata": {},
   "outputs": [
    {
     "data": {
      "text/plain": [
       "'1'"
      ]
     },
     "execution_count": 17,
     "metadata": {},
     "output_type": "execute_result"
    }
   ],
   "source": [
    "author_id = paper_row.author_ids.split(\",\")[0]\n",
    "author_id"
   ]
  },
  {
   "cell_type": "code",
   "execution_count": 18,
   "metadata": {},
   "outputs": [
    {
     "data": {
      "text/plain": [
       "False"
      ]
     },
     "execution_count": 18,
     "metadata": {},
     "output_type": "execute_result"
    }
   ],
   "source": [
    "author_id in bot.human_df[\"author_id\"]"
   ]
  },
  {
   "cell_type": "code",
   "execution_count": 20,
   "metadata": {},
   "outputs": [
    {
     "data": {
      "text/plain": [
       "True"
      ]
     },
     "execution_count": 20,
     "metadata": {},
     "output_type": "execute_result"
    }
   ],
   "source": [
    "int (author_id) in bot.human_df[\"author_id\"]"
   ]
  },
  {
   "cell_type": "code",
   "execution_count": 7,
   "metadata": {},
   "outputs": [
    {
     "data": {
      "text/plain": [
       "[]"
      ]
     },
     "execution_count": 7,
     "metadata": {},
     "output_type": "execute_result"
    }
   ],
   "source": [
    "# okay, so here's the problem. author_id in papers is a string, but it's stored\n",
    "# as an int in human_df. \n",
    "# it shouldn't be though, as HUMAN_DICT calls for it to be a string"
   ]
  },
  {
   "cell_type": "code",
   "execution_count": 22,
   "metadata": {},
   "outputs": [
    {
     "data": {
      "text/plain": [
       "name                       string\n",
       "aliases                    string\n",
       "hash_id                    string\n",
       "current_affiliation        string\n",
       "previous_affiliation       string\n",
       "last_degree_affiliation    string\n",
       "orcid_url                  string\n",
       "orcid                      string\n",
       "author_id                  string\n",
       "verified                     bool\n",
       "dtype: object"
      ]
     },
     "execution_count": 22,
     "metadata": {},
     "output_type": "execute_result"
    }
   ],
   "source": [
    "bot.human_df.dtypes"
   ]
  },
  {
   "cell_type": "code",
   "execution_count": 23,
   "metadata": {},
   "outputs": [
    {
     "data": {
      "text/plain": [
       "str"
      ]
     },
     "execution_count": 23,
     "metadata": {},
     "output_type": "execute_result"
    }
   ],
   "source": [
    "type(author_id)"
   ]
  },
  {
   "cell_type": "code",
   "execution_count": 24,
   "metadata": {},
   "outputs": [
    {
     "data": {
      "text/plain": [
       "str"
      ]
     },
     "execution_count": 24,
     "metadata": {},
     "output_type": "execute_result"
    }
   ],
   "source": [
    "type(bot.human_df[\"author_id\"][0])"
   ]
  },
  {
   "cell_type": "code",
   "execution_count": 25,
   "metadata": {},
   "outputs": [
    {
     "data": {
      "text/plain": [
       "True"
      ]
     },
     "execution_count": 25,
     "metadata": {},
     "output_type": "execute_result"
    }
   ],
   "source": [
    "author_id == bot.human_df[\"author_id\"][0]"
   ]
  },
  {
   "cell_type": "code",
   "execution_count": 27,
   "metadata": {},
   "outputs": [
    {
     "data": {
      "text/plain": [
       "False"
      ]
     },
     "execution_count": 27,
     "metadata": {},
     "output_type": "execute_result"
    }
   ],
   "source": [
    "author_id in bot.human_df[\"author_id\"]"
   ]
  },
  {
   "cell_type": "code",
   "execution_count": 28,
   "metadata": {},
   "outputs": [
    {
     "data": {
      "text/plain": [
       "True"
      ]
     },
     "execution_count": 28,
     "metadata": {},
     "output_type": "execute_result"
    }
   ],
   "source": [
    "author_id in bot.human_df[\"author_id\"][0]"
   ]
  },
  {
   "cell_type": "code",
   "execution_count": 29,
   "metadata": {},
   "outputs": [
    {
     "data": {
      "text/plain": [
       "True"
      ]
     },
     "execution_count": 29,
     "metadata": {},
     "output_type": "execute_result"
    }
   ],
   "source": [
    "# df['company_name'].eq('ABC').any()\n",
    "bot.human_df[\"author_id\"].eq(author_id).any()"
   ]
  },
  {
   "cell_type": "code",
   "execution_count": null,
   "metadata": {},
   "outputs": [],
   "source": [
    "# okay. made this change. see if tests run."
   ]
  },
  {
   "cell_type": "code",
   "execution_count": null,
   "metadata": {},
   "outputs": [],
   "source": []
  },
  {
   "cell_type": "code",
   "execution_count": null,
   "metadata": {},
   "outputs": [],
   "source": []
  },
  {
   "cell_type": "code",
   "execution_count": 9,
   "metadata": {},
   "outputs": [
    {
     "data": {
      "text/html": [
       "<div>\n",
       "<style scoped>\n",
       "    .dataframe tbody tr th:only-of-type {\n",
       "        vertical-align: middle;\n",
       "    }\n",
       "\n",
       "    .dataframe tbody tr th {\n",
       "        vertical-align: top;\n",
       "    }\n",
       "\n",
       "    .dataframe thead th {\n",
       "        text-align: right;\n",
       "    }\n",
       "</style>\n",
       "<table border=\"1\" class=\"dataframe\">\n",
       "  <thead>\n",
       "    <tr style=\"text-align: right;\">\n",
       "      <th></th>\n",
       "      <th>authors</th>\n",
       "      <th>author_ids</th>\n",
       "      <th>title</th>\n",
       "      <th>year</th>\n",
       "      <th>committee_presentation_decision</th>\n",
       "      <th>committee_publication_decision</th>\n",
       "      <th>abstract</th>\n",
       "      <th>body</th>\n",
       "    </tr>\n",
       "    <tr>\n",
       "      <th>paper_id</th>\n",
       "      <th></th>\n",
       "      <th></th>\n",
       "      <th></th>\n",
       "      <th></th>\n",
       "      <th></th>\n",
       "      <th></th>\n",
       "      <th></th>\n",
       "      <th></th>\n",
       "    </tr>\n",
       "  </thead>\n",
       "  <tbody>\n",
       "    <tr>\n",
       "      <th>2015/1</th>\n",
       "      <td>Francesca Geisinsky,Raymon Gilpatrick,Victoria...</td>\n",
       "      <td>1,2,3,4,5,6</td>\n",
       "      <td>Plurinacionalidad y Vivir Bien/Buen Vivir: Dos...</td>\n",
       "      <td>2015</td>\n",
       "      <td>Reject</td>\n",
       "      <td>Reject</td>\n",
       "      <td>Each country is in the image of its inhabitant...</td>\n",
       "      <td>&lt;NA&gt;</td>\n",
       "    </tr>\n",
       "    <tr>\n",
       "      <th>2015/2</th>\n",
       "      <td>Elfrieda Loxton,Dina Dage,Sibyl Locatelli,Gena...</td>\n",
       "      <td>7,8,9,10,11</td>\n",
       "      <td>Disciplining Interdisciplinarity: Integration ...</td>\n",
       "      <td>2015</td>\n",
       "      <td>Accept</td>\n",
       "      <td>Reject</td>\n",
       "      <td>There have been hitches. I sent Tom a couple o...</td>\n",
       "      <td>&lt;NA&gt;</td>\n",
       "    </tr>\n",
       "    <tr>\n",
       "      <th>2015/3</th>\n",
       "      <td>Asia Smeathers,Ashli Kluemper,Katelynn Dangerf...</td>\n",
       "      <td>12,13,14</td>\n",
       "      <td>Fact and Fiction: Literary and Scientific Cult...</td>\n",
       "      <td>2015</td>\n",
       "      <td>Reject</td>\n",
       "      <td>Reject</td>\n",
       "      <td>Avoid the temptation to skip lunch. Clean your...</td>\n",
       "      <td>&lt;NA&gt;</td>\n",
       "    </tr>\n",
       "    <tr>\n",
       "      <th>2015/4</th>\n",
       "      <td>Dustin Barben,Janeth Zierenberg,Ryann Babicke,...</td>\n",
       "      <td>15,16,17,18</td>\n",
       "      <td>La nación y su historia, independencias, relat...</td>\n",
       "      <td>2015</td>\n",
       "      <td>Reject</td>\n",
       "      <td>Reject</td>\n",
       "      <td>\"Who is there?\" she asked without raising her ...</td>\n",
       "      <td>&lt;NA&gt;</td>\n",
       "    </tr>\n",
       "    <tr>\n",
       "      <th>2015/5</th>\n",
       "      <td>Felica Layva,Theda Headly,Deborah Tavolacci,Wi...</td>\n",
       "      <td>19,20,21,22,23</td>\n",
       "      <td>Intersex Narratives: Shifts in the Representat...</td>\n",
       "      <td>2015</td>\n",
       "      <td>Reject</td>\n",
       "      <td>Reject</td>\n",
       "      <td>I have a long vacation coming up. Tom is lucky...</td>\n",
       "      <td>&lt;NA&gt;</td>\n",
       "    </tr>\n",
       "  </tbody>\n",
       "</table>\n",
       "</div>"
      ],
      "text/plain": [
       "                                                    authors      author_ids  \\\n",
       "paper_id                                                                      \n",
       "2015/1    Francesca Geisinsky,Raymon Gilpatrick,Victoria...     1,2,3,4,5,6   \n",
       "2015/2    Elfrieda Loxton,Dina Dage,Sibyl Locatelli,Gena...     7,8,9,10,11   \n",
       "2015/3    Asia Smeathers,Ashli Kluemper,Katelynn Dangerf...        12,13,14   \n",
       "2015/4    Dustin Barben,Janeth Zierenberg,Ryann Babicke,...     15,16,17,18   \n",
       "2015/5    Felica Layva,Theda Headly,Deborah Tavolacci,Wi...  19,20,21,22,23   \n",
       "\n",
       "                                                      title  year  \\\n",
       "paper_id                                                            \n",
       "2015/1    Plurinacionalidad y Vivir Bien/Buen Vivir: Dos...  2015   \n",
       "2015/2    Disciplining Interdisciplinarity: Integration ...  2015   \n",
       "2015/3    Fact and Fiction: Literary and Scientific Cult...  2015   \n",
       "2015/4    La nación y su historia, independencias, relat...  2015   \n",
       "2015/5    Intersex Narratives: Shifts in the Representat...  2015   \n",
       "\n",
       "         committee_presentation_decision committee_publication_decision  \\\n",
       "paper_id                                                                  \n",
       "2015/1                            Reject                         Reject   \n",
       "2015/2                            Accept                         Reject   \n",
       "2015/3                            Reject                         Reject   \n",
       "2015/4                            Reject                         Reject   \n",
       "2015/5                            Reject                         Reject   \n",
       "\n",
       "                                                   abstract  body  \n",
       "paper_id                                                           \n",
       "2015/1    Each country is in the image of its inhabitant...  <NA>  \n",
       "2015/2    There have been hitches. I sent Tom a couple o...  <NA>  \n",
       "2015/3    Avoid the temptation to skip lunch. Clean your...  <NA>  \n",
       "2015/4    \"Who is there?\" she asked without raising her ...  <NA>  \n",
       "2015/5    I have a long vacation coming up. Tom is lucky...  <NA>  "
      ]
     },
     "execution_count": 9,
     "metadata": {},
     "output_type": "execute_result"
    }
   ],
   "source": [
    "df.head()"
   ]
  },
  {
   "cell_type": "code",
   "execution_count": null,
   "metadata": {},
   "outputs": [],
   "source": []
  },
  {
   "cell_type": "code",
   "execution_count": null,
   "metadata": {},
   "outputs": [],
   "source": []
  },
  {
   "cell_type": "code",
   "execution_count": null,
   "metadata": {},
   "outputs": [],
   "source": []
  },
  {
   "cell_type": "code",
   "execution_count": null,
   "metadata": {},
   "outputs": [],
   "source": []
  },
  {
   "cell_type": "code",
   "execution_count": null,
   "metadata": {},
   "outputs": [],
   "source": [
    "print(\"Computing normalized scores\")\n",
    "bot.compute_normalized_scores()"
   ]
  },
  {
   "cell_type": "code",
   "execution_count": null,
   "metadata": {},
   "outputs": [],
   "source": [
    "print(\"Computing normalized scores (via dataframes)\")\n",
    "bot.compute_normalized_scores(dataframe_only=True)"
   ]
  },
  {
   "cell_type": "code",
   "execution_count": null,
   "metadata": {},
   "outputs": [],
   "source": [
    "print(\"Writing paper book to disk\")\n",
    "book_file = os.path.join(example_dir, \"fake_serialized_paper_book.text\")\n",
    "bot.write_paper_book(output_file=book_file)"
   ]
  },
  {
   "cell_type": "code",
   "execution_count": null,
   "metadata": {},
   "outputs": [],
   "source": [
    "print(\"Read paper book from disk\")\n",
    "bot = cbot.read_paper_book(book_file)"
   ]
  },
  {
   "cell_type": "code",
   "execution_count": null,
   "metadata": {},
   "outputs": [],
   "source": [
    "input_file = book_file"
   ]
  },
  {
   "cell_type": "code",
   "execution_count": null,
   "metadata": {},
   "outputs": [],
   "source": [
    "paper_book = dm.PaperBook()\n",
    "try:\n",
    "    with open(input_file, \"rb\") as f:\n",
    "        paper_book.ParseFromString(f.read())\n",
    "except IOError:\n",
    "    print(input_file + \": File not found.\")"
   ]
  },
  {
   "cell_type": "code",
   "execution_count": null,
   "metadata": {},
   "outputs": [],
   "source": [
    "bot = cbot(input_paper_book=paper_book)\n",
    "bot.paper_df = bot.make_dataframe(dataframe_name=\"paper\")\n",
    "bot.review_df = bot.make_dataframe(dataframe_name=\"review\")"
   ]
  },
  {
   "cell_type": "code",
   "execution_count": null,
   "metadata": {},
   "outputs": [],
   "source": [
    "bot.human_df = bot.make_dataframe(dataframe_name=\"human\")"
   ]
  },
  {
   "cell_type": "code",
   "execution_count": null,
   "metadata": {},
   "outputs": [],
   "source": [
    "# start here and walk through the make_dataframe method to find the bug"
   ]
  },
  {
   "cell_type": "code",
   "execution_count": null,
   "metadata": {},
   "outputs": [],
   "source": [
    "output_df = pd.DataFrame()"
   ]
  },
  {
   "cell_type": "code",
   "execution_count": null,
   "metadata": {},
   "outputs": [],
   "source": [
    "author_id_df = bot._make_author_id_df()"
   ]
  },
  {
   "cell_type": "code",
   "execution_count": null,
   "metadata": {},
   "outputs": [],
   "source": [
    "author_id_df.head()"
   ]
  },
  {
   "cell_type": "code",
   "execution_count": null,
   "metadata": {},
   "outputs": [],
   "source": [
    "paper = bot.paper_book.paper[1]"
   ]
  },
  {
   "cell_type": "code",
   "execution_count": null,
   "metadata": {},
   "outputs": [],
   "source": [
    "authors_df = pd.DataFrame()"
   ]
  },
  {
   "cell_type": "code",
   "execution_count": null,
   "metadata": {},
   "outputs": [],
   "source": [
    "author = paper.authors"
   ]
  },
  {
   "cell_type": "code",
   "execution_count": null,
   "metadata": {},
   "outputs": [],
   "source": [
    "df = bot.paper_df"
   ]
  },
  {
   "cell_type": "code",
   "execution_count": null,
   "metadata": {},
   "outputs": [],
   "source": [
    "df.head()"
   ]
  },
  {
   "cell_type": "code",
   "execution_count": null,
   "metadata": {},
   "outputs": [],
   "source": []
  },
  {
   "cell_type": "code",
   "execution_count": null,
   "metadata": {},
   "outputs": [],
   "source": [
    "print(\"Make dataframes\")\n",
    "paper_out_df = bot.make_dataframe(\"paper\")\n",
    "review_out_df = bot.make_dataframe(\"review\")\n",
    "human_out_df = bot.make_dataframe(\"human\")"
   ]
  },
  {
   "cell_type": "code",
   "execution_count": null,
   "metadata": {},
   "outputs": [],
   "source": [
    "print(\"Count former co-authors\")\n",
    "bot.count_former_coauthors()"
   ]
  },
  {
   "cell_type": "code",
   "execution_count": null,
   "metadata": {},
   "outputs": [],
   "source": [
    "print(\"Count former co-authors (via dataframes)\")\n",
    "bot.count_former_coauthors(dataframe_only=True)"
   ]
  },
  {
   "cell_type": "code",
   "execution_count": null,
   "metadata": {},
   "outputs": [],
   "source": [
    "print(\"Mean verified review score\")\n",
    "bot.append_verified_reviewer(min_count=2, dataframe_only=False)"
   ]
  },
  {
   "cell_type": "code",
   "execution_count": null,
   "metadata": {},
   "outputs": [],
   "source": [
    "print(\"Mean verified review score (via dataframes)\")\n",
    "    bot.append_verified_reviewer(min_count=2, dataframe_only=True)"
   ]
  }
 ],
 "metadata": {
  "kernelspec": {
   "display_name": "Python 3",
   "language": "python",
   "name": "python3"
  },
  "language_info": {
   "codemirror_mode": {
    "name": "ipython",
    "version": 3
   },
   "file_extension": ".py",
   "mimetype": "text/x-python",
   "name": "python",
   "nbconvert_exporter": "python",
   "pygments_lexer": "ipython3",
   "version": "3.7.7"
  }
 },
 "nbformat": 4,
 "nbformat_minor": 4
}
